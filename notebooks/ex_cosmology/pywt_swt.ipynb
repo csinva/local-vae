{
 "cells": [
  {
   "cell_type": "code",
   "execution_count": 1,
   "metadata": {},
   "outputs": [],
   "source": [
    "%load_ext autoreload\n",
    "%autoreload 2\n",
    "%matplotlib inline\n",
    "import matplotlib.pyplot as plt\n",
    "import numpy as np\n",
    "import torch\n",
    "device = 'cuda' if torch.cuda.is_available() else 'cpu'\n",
    "import os,sys\n",
    "opj = os.path.join\n",
    "from copy import deepcopy\n",
    "import pickle as pkl\n",
    "\n",
    "sys.path.append('../../src')\n",
    "sys.path.append('../../src/dsets/cosmology')\n",
    "from dset import get_dataloader\n",
    "from viz import viz_im_r, cshow, viz_filters\n",
    "from sim_cosmology import p, load_dataloader_and_pretrained_model\n",
    "from losses import get_loss_f\n",
    "from train import Trainer, Validator\n",
    "\n",
    "# wt modules\n",
    "from wavelet_transform import Wavelet_Transform, Attributer, get_2dfilts, initialize_filters\n",
    "from utils import tuple_L1Loss, tuple_L2Loss, thresh_attrs, viz_list"
   ]
  },
  {
   "cell_type": "code",
   "execution_count": 90,
   "metadata": {},
   "outputs": [],
   "source": [
    "import pywt\n",
    "import warnings\n",
    "from itertools import product\n",
    "\n",
    "import numpy as np\n",
    "\n",
    "from pywt._c99_config import _have_c99_complex\n",
    "from pywt._extensions._dwt import idwt_single\n",
    "from pywt._extensions._swt import swt_max_level, swt as _swt, swt_axis as _swt_axis\n",
    "from pywt._extensions._pywt import Wavelet, Modes, _check_dtype\n",
    "from pywt._multidim import idwt2, idwtn\n",
    "from pywt._utils import _as_wavelet, _wavelets_per_axis"
   ]
  },
  {
   "cell_type": "code",
   "execution_count": 3,
   "metadata": {},
   "outputs": [],
   "source": [
    "# get dataloader and model\n",
    "(train_loader, test_loader), model = load_dataloader_and_pretrained_model(p, img_size=256)\n",
    "torch.manual_seed(p.seed)\n",
    "im = iter(test_loader).next()[0][0:1].numpy().squeeze()"
   ]
  },
  {
   "cell_type": "code",
   "execution_count": 93,
   "metadata": {},
   "outputs": [],
   "source": [
    "db2 = pywt.Wavelet('db2')"
   ]
  },
  {
   "cell_type": "code",
   "execution_count": 105,
   "metadata": {},
   "outputs": [],
   "source": [
    "start_level = 0\n",
    "axes = (-2, -1)\n",
    "trim_approx = False\n",
    "norm = False"
   ]
  },
  {
   "cell_type": "code",
   "execution_count": 153,
   "metadata": {},
   "outputs": [
    {
     "name": "stdout",
     "output_type": "stream",
     "text": [
      "[0, 1]\n"
     ]
    }
   ],
   "source": [
    "data = np.asarray(im)\n",
    "# coefs = swtn(data, wavelet, level, start_level, axes, trim_approx, norm)\n",
    "axes = [a + data.ndim if a < 0 else a for a in axes]\n",
    "num_axes = len(axes)\n",
    "print(axes)\n",
    "wavelets = _wavelets_per_axis(db2, axes)\n",
    "ret = []\n",
    "level = 1"
   ]
  },
  {
   "cell_type": "code",
   "execution_count": 164,
   "metadata": {},
   "outputs": [],
   "source": [
    "i = 0\n",
    "coeffs = [('', data)]\n",
    "axis = axes[0]\n",
    "wavelet = wavelets[0]\n",
    "new_coeffs = []\n",
    "subband, x = coeffs[0]\n",
    "cA, cD = _swt_axis(x, wavelet, level=1, start_level=i,\n",
    "                   axis=axis)[0]\n",
    "new_coeffs.extend([(subband + 'a', cA),\n",
    "                   (subband + 'd', cD)])\n",
    "coeffs = new_coeffs"
   ]
  },
  {
   "cell_type": "code",
   "execution_count": 165,
   "metadata": {},
   "outputs": [
    {
     "data": {
      "text/plain": [
       "[('a',\n",
       "  array([[-1.05216005e-03,  4.46301093e-03, -1.56744849e-03, ...,\n",
       "          -3.40364617e-03, -1.77054340e-03, -1.44116115e-03],\n",
       "         [-3.58037930e-03, -2.80459132e-03, -5.55969309e-03, ...,\n",
       "           1.54842995e-03,  2.39453069e-03,  5.39557356e-03],\n",
       "         [ 6.62567886e-03,  1.75025803e-03,  3.65102151e-03, ...,\n",
       "          -7.15488277e-04,  7.84642762e-05,  2.22519482e-03],\n",
       "         ...,\n",
       "         [ 5.51964529e-03,  3.12441518e-03,  2.25836551e-03, ...,\n",
       "           2.26526055e-03, -5.27867861e-03, -1.13238748e-02],\n",
       "         [ 5.45958895e-03,  6.21066662e-03,  4.41697240e-03, ...,\n",
       "          -8.23037419e-03, -1.01424614e-02, -1.37235001e-02],\n",
       "         [ 6.28706021e-03,  1.28138736e-02,  7.01082451e-03, ...,\n",
       "          -1.27704535e-02, -1.10925213e-02, -1.23784877e-02]], dtype=float32)),\n",
       " ('d',\n",
       "  array([[-4.5405813e-03, -3.1076092e-03, -4.4733770e-03, ...,\n",
       "           1.7678754e-03,  1.2743192e-03,  3.2380112e-03],\n",
       "         [-5.3215108e-04, -2.4327349e-03, -4.1219674e-04, ...,\n",
       "           2.5697268e-04, -9.9693134e-06,  1.6852128e-03],\n",
       "         [ 7.9313871e-03,  3.2418841e-03,  4.1009039e-03, ...,\n",
       "          -1.6935844e-03, -1.3587172e-03, -3.8597547e-03],\n",
       "         ...,\n",
       "         [-1.7506480e-03, -5.2550104e-03, -4.4669621e-03, ...,\n",
       "          -2.8389192e-03, -6.8414246e-04, -1.2229457e-03],\n",
       "         [ 5.9006857e-03,  1.1910957e-02,  9.7150570e-03, ...,\n",
       "          -8.3143907e-03, -7.3630316e-03, -5.8967900e-03],\n",
       "         [-3.7866824e-03, -4.7324765e-03, -5.3935302e-03, ...,\n",
       "           4.7638123e-03,  5.2963030e-03,  3.6811358e-03]], dtype=float32))]"
      ]
     },
     "execution_count": 165,
     "metadata": {},
     "output_type": "execute_result"
    }
   ],
   "source": [
    "coeffs"
   ]
  },
  {
   "cell_type": "code",
   "execution_count": 92,
   "metadata": {},
   "outputs": [],
   "source": [
    "def swtn(data, wavelet, level, start_level=0, axes=None, trim_approx=False,\n",
    "         norm=False):\n",
    "\n",
    "    wavelets = _wavelets_per_axis(wavelet, axes)\n",
    "    if norm:\n",
    "        if not np.all([wav.orthogonal for wav in wavelets]):\n",
    "            warnings.warn(\n",
    "                \"norm=True, but the wavelets used are not orthogonal: \\n\"\n",
    "                \"\\tThe conditions for energy preservation are not satisfied.\")\n",
    "        wavelets = [_rescale_wavelet_filterbank(wav, 1/np.sqrt(2))\n",
    "                    for wav in wavelets]\n",
    "    ret = []\n",
    "    for i in range(start_level, start_level + level):\n",
    "        coeffs = [('', data)]\n",
    "        for axis, wavelet in zip(axes, wavelets):\n",
    "            new_coeffs = []\n",
    "            for subband, x in coeffs:\n",
    "                cA, cD = _swt_axis(x, wavelet, level=1, start_level=i,\n",
    "                                   axis=axis)[0]\n",
    "                new_coeffs.extend([(subband + 'a', cA),\n",
    "                                   (subband + 'd', cD)])\n",
    "            coeffs = new_coeffs\n",
    "\n",
    "        coeffs = dict(coeffs)\n",
    "        ret.append(coeffs)\n",
    "\n",
    "        # data for the next level is the approximation coeffs from this level\n",
    "        data = coeffs['a' * num_axes]\n",
    "        if trim_approx:\n",
    "            coeffs.pop('a' * num_axes)\n",
    "    if trim_approx:\n",
    "        ret.append(data)\n",
    "    ret.reverse()\n",
    "    return ret"
   ]
  },
  {
   "cell_type": "code",
   "execution_count": null,
   "metadata": {},
   "outputs": [],
   "source": [
    "def swt2(data, wavelet, level, start_level=0, axes=(-2, -1),\n",
    "         trim_approx=False, norm=False):\n",
    "    axes = tuple(axes)\n",
    "    data = np.asarray(data)\n",
    "    if len(axes) != 2:\n",
    "        raise ValueError(\"Expected 2 axes\")\n",
    "    if len(axes) != len(set(axes)):\n",
    "        raise ValueError(\"The axes passed to swt2 must be unique.\")\n",
    "    if data.ndim < len(np.unique(axes)):\n",
    "        raise ValueError(\"Input array has fewer dimensions than the specified \"\n",
    "                         \"axes\")\n",
    "\n",
    "    coefs = swtn(data, wavelet, level, start_level, axes, trim_approx, norm)\n",
    "    ret = []\n",
    "    if trim_approx:\n",
    "        ret.append(coefs[0])\n",
    "        coefs = coefs[1:]\n",
    "    for c in coefs:\n",
    "        if trim_approx:\n",
    "            ret.append((c['da'], c['ad'], c['dd']))\n",
    "        else:\n",
    "            ret.append((c['aa'], (c['da'], c['ad'], c['dd'])))\n",
    "    return ret"
   ]
  },
  {
   "cell_type": "code",
   "execution_count": null,
   "metadata": {},
   "outputs": [],
   "source": []
  }
 ],
 "metadata": {
  "kernelspec": {
   "display_name": "Environment (conda_pytorch_p36)",
   "language": "python",
   "name": "conda_pytorch_p36"
  },
  "language_info": {
   "codemirror_mode": {
    "name": "ipython",
    "version": 3
   },
   "file_extension": ".py",
   "mimetype": "text/x-python",
   "name": "python",
   "nbconvert_exporter": "python",
   "pygments_lexer": "ipython3",
   "version": "3.6.10"
  }
 },
 "nbformat": 4,
 "nbformat_minor": 4
}
